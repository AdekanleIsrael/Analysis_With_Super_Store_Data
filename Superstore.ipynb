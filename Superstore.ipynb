{
 "cells": [
  {
   "cell_type": "code",
   "execution_count": 2,
   "id": "189d3541",
   "metadata": {},
   "outputs": [],
   "source": [
    "import pandas as pd\n",
    "import numpy as np\n",
    "import matplotlib.pyplot as plt\n",
    "import seaborn as sns"
   ]
  },
  {
   "cell_type": "code",
   "execution_count": 3,
   "id": "baba6dda",
   "metadata": {},
   "outputs": [
    {
     "name": "stdout",
     "output_type": "stream",
     "text": [
      "<class 'pandas.core.frame.DataFrame'>\n",
      "RangeIndex: 9994 entries, 0 to 9993\n",
      "Data columns (total 21 columns):\n",
      " #   Column         Non-Null Count  Dtype         \n",
      "---  ------         --------------  -----         \n",
      " 0   Row ID         9994 non-null   int64         \n",
      " 1   Order ID       9994 non-null   object        \n",
      " 2   Order Date     9994 non-null   datetime64[ns]\n",
      " 3   Ship Date      9994 non-null   datetime64[ns]\n",
      " 4   Ship Mode      9994 non-null   object        \n",
      " 5   Customer ID    9994 non-null   object        \n",
      " 6   Customer Name  9994 non-null   object        \n",
      " 7   Segment        9994 non-null   object        \n",
      " 8   Country        9994 non-null   object        \n",
      " 9   City           9994 non-null   object        \n",
      " 10  State          9994 non-null   object        \n",
      " 11  Postal Code    9994 non-null   int64         \n",
      " 12  Region         9994 non-null   object        \n",
      " 13  Product ID     9994 non-null   object        \n",
      " 14  Category       9994 non-null   object        \n",
      " 15  Sub-Category   9994 non-null   object        \n",
      " 16  Product Name   9994 non-null   object        \n",
      " 17  Sales          9994 non-null   float64       \n",
      " 18  Quantity       9994 non-null   int64         \n",
      " 19  Discount       9994 non-null   float64       \n",
      " 20  Profit         9994 non-null   float64       \n",
      "dtypes: datetime64[ns](2), float64(3), int64(3), object(13)\n",
      "memory usage: 1.6+ MB\n"
     ]
    }
   ],
   "source": [
    "df = pd.read_excel(\"C:/Users/Brown/Documents/GitHubRepo/Analysis_With_Super_Store_Data/Superstore.xls\", sheet_name= \"Orders\")\n",
    "df.info()"
   ]
  },
  {
   "cell_type": "code",
   "execution_count": 4,
   "id": "c4802d1d",
   "metadata": {},
   "outputs": [
    {
     "data": {
      "text/plain": [
       "Row ID           0\n",
       "Order ID         0\n",
       "Order Date       0\n",
       "Ship Date        0\n",
       "Ship Mode        0\n",
       "Customer ID      0\n",
       "Customer Name    0\n",
       "Segment          0\n",
       "Country          0\n",
       "City             0\n",
       "State            0\n",
       "Postal Code      0\n",
       "Region           0\n",
       "Product ID       0\n",
       "Category         0\n",
       "Sub-Category     0\n",
       "Product Name     0\n",
       "Sales            0\n",
       "Quantity         0\n",
       "Discount         0\n",
       "Profit           0\n",
       "dtype: int64"
      ]
     },
     "execution_count": 4,
     "metadata": {},
     "output_type": "execute_result"
    }
   ],
   "source": [
    "df.isnull().sum()"
   ]
  },
  {
   "cell_type": "code",
   "execution_count": 5,
   "id": "bfd6c14f",
   "metadata": {},
   "outputs": [
    {
     "data": {
      "text/plain": [
       "Index(['Row ID', 'Postal Code', 'Sales', 'Quantity', 'Discount', 'Profit'], dtype='object')"
      ]
     },
     "execution_count": 5,
     "metadata": {},
     "output_type": "execute_result"
    }
   ],
   "source": [
    "df.select_dtypes(include =['int64', 'float64']).columns"
   ]
  },
  {
   "cell_type": "code",
   "execution_count": 6,
   "id": "f41ec2b2",
   "metadata": {},
   "outputs": [
    {
     "data": {
      "text/plain": [
       "Index(['Order ID', 'Ship Mode', 'Customer ID', 'Customer Name', 'Segment',\n",
       "       'Country', 'City', 'State', 'Region', 'Product ID', 'Category',\n",
       "       'Sub-Category', 'Product Name'],\n",
       "      dtype='object')"
      ]
     },
     "execution_count": 6,
     "metadata": {},
     "output_type": "execute_result"
    }
   ],
   "source": [
    "df.select_dtypes(include =['object']).columns"
   ]
  },
  {
   "cell_type": "code",
   "execution_count": 7,
   "id": "d0efd329",
   "metadata": {},
   "outputs": [
    {
     "data": {
      "text/plain": [
       "Index(['Order Date', 'Ship Date'], dtype='object')"
      ]
     },
     "execution_count": 7,
     "metadata": {},
     "output_type": "execute_result"
    }
   ],
   "source": [
    "df.select_dtypes(include = ['datetime64[ns]']).columns"
   ]
  },
  {
   "cell_type": "markdown",
   "id": "124304b3",
   "metadata": {},
   "source": [
    "# Basic Exploratory Data Analysis"
   ]
  },
  {
   "cell_type": "markdown",
   "id": "9fb51fc5",
   "metadata": {},
   "source": [
    "\n",
    "\n",
    "#### What  are the total sales and profits for the store for each year in the datasets?"
   ]
  },
  {
   "cell_type": "code",
   "execution_count": 8,
   "id": "55729e1a",
   "metadata": {},
   "outputs": [
    {
     "data": {
      "text/plain": [
       "year\n",
       "2014    484247.4981\n",
       "2015    470532.5090\n",
       "2016    609205.5980\n",
       "2017    733215.2552\n",
       "Name: Sales, dtype: float64"
      ]
     },
     "execution_count": 8,
     "metadata": {},
     "output_type": "execute_result"
    }
   ],
   "source": [
    "# create new column(Year)\n",
    "df['year'] = df['Order Date'].dt.year\n",
    "#df.head()\n",
    "#calculate the total sales for each year?\n",
    "sales_by_year = df.groupby('year')['Sales'].sum()\n",
    "sales_by_year"
   ]
  },
  {
   "cell_type": "code",
   "execution_count": 9,
   "id": "93edf990",
   "metadata": {},
   "outputs": [
    {
     "data": {
      "text/plain": [
       "year\n",
       "2014    49543.9741\n",
       "2015    61618.6037\n",
       "2016    81795.1743\n",
       "2017    93439.2696\n",
       "Name: Profit, dtype: float64"
      ]
     },
     "execution_count": 9,
     "metadata": {},
     "output_type": "execute_result"
    }
   ],
   "source": [
    "# create new column(Year)\n",
    "df['year'] = df['Order Date'].dt.year\n",
    "#df.head()\n",
    "#calculate the total profit for each year?\n",
    "Profit_by_year = df.groupby('year')['Profit'].sum()\n",
    "Profit_by_year"
   ]
  },
  {
   "cell_type": "markdown",
   "id": "f465a411",
   "metadata": {},
   "source": [
    "### What are the top-selling products in terms of revenue and quantity sold?"
   ]
  },
  {
   "cell_type": "code",
   "execution_count": 10,
   "id": "017a3109",
   "metadata": {},
   "outputs": [
    {
     "data": {
      "text/html": [
       "<div>\n",
       "<style scoped>\n",
       "    .dataframe tbody tr th:only-of-type {\n",
       "        vertical-align: middle;\n",
       "    }\n",
       "\n",
       "    .dataframe tbody tr th {\n",
       "        vertical-align: top;\n",
       "    }\n",
       "\n",
       "    .dataframe thead th {\n",
       "        text-align: right;\n",
       "    }\n",
       "</style>\n",
       "<table border=\"1\" class=\"dataframe\">\n",
       "  <thead>\n",
       "    <tr style=\"text-align: right;\">\n",
       "      <th></th>\n",
       "      <th>Sales</th>\n",
       "      <th>Quantity</th>\n",
       "    </tr>\n",
       "    <tr>\n",
       "      <th>Product Name</th>\n",
       "      <th></th>\n",
       "      <th></th>\n",
       "    </tr>\n",
       "  </thead>\n",
       "  <tbody>\n",
       "    <tr>\n",
       "      <th>Staples</th>\n",
       "      <td>755.470</td>\n",
       "      <td>215</td>\n",
       "    </tr>\n",
       "    <tr>\n",
       "      <th>Staple envelope</th>\n",
       "      <td>1686.812</td>\n",
       "      <td>170</td>\n",
       "    </tr>\n",
       "    <tr>\n",
       "      <th>Easy-staple paper</th>\n",
       "      <td>2504.192</td>\n",
       "      <td>150</td>\n",
       "    </tr>\n",
       "    <tr>\n",
       "      <th>Staples in misc. colors</th>\n",
       "      <td>478.812</td>\n",
       "      <td>86</td>\n",
       "    </tr>\n",
       "    <tr>\n",
       "      <th>KI Adjustable-Height Table</th>\n",
       "      <td>4552.641</td>\n",
       "      <td>74</td>\n",
       "    </tr>\n",
       "    <tr>\n",
       "      <th>Avery Non-Stick Binders</th>\n",
       "      <td>217.316</td>\n",
       "      <td>71</td>\n",
       "    </tr>\n",
       "    <tr>\n",
       "      <th>Storex Dura Pro Binders</th>\n",
       "      <td>278.586</td>\n",
       "      <td>71</td>\n",
       "    </tr>\n",
       "    <tr>\n",
       "      <th>GBC Premium Transparent Covers with Diagonal Lined Pattern</th>\n",
       "      <td>780.456</td>\n",
       "      <td>67</td>\n",
       "    </tr>\n",
       "    <tr>\n",
       "      <th>Situations Contoured Folding Chairs, 4/Set</th>\n",
       "      <td>3641.274</td>\n",
       "      <td>64</td>\n",
       "    </tr>\n",
       "    <tr>\n",
       "      <th>Staple-based wall hangings</th>\n",
       "      <td>422.288</td>\n",
       "      <td>62</td>\n",
       "    </tr>\n",
       "  </tbody>\n",
       "</table>\n",
       "</div>"
      ],
      "text/plain": [
       "                                                       Sales  Quantity\n",
       "Product Name                                                          \n",
       "Staples                                              755.470       215\n",
       "Staple envelope                                     1686.812       170\n",
       "Easy-staple paper                                   2504.192       150\n",
       "Staples in misc. colors                              478.812        86\n",
       "KI Adjustable-Height Table                          4552.641        74\n",
       "Avery Non-Stick Binders                              217.316        71\n",
       "Storex Dura Pro Binders                              278.586        71\n",
       "GBC Premium Transparent Covers with Diagonal Li...   780.456        67\n",
       "Situations Contoured Folding Chairs, 4/Set          3641.274        64\n",
       "Staple-based wall hangings                           422.288        62"
      ]
     },
     "execution_count": 10,
     "metadata": {},
     "output_type": "execute_result"
    }
   ],
   "source": [
    "#What are the top-selling products in terms of revenue and quantity sold?\n",
    "product_sales = df.groupby('Product Name').agg({'Sales' : 'sum','Quantity' :'sum'})\n",
    "\n",
    "#product_sales.sort_values(by='sales', ascending=False).head(10)\n",
    "product_sales.sort_values(by='Quantity', ascending= False).head(10)"
   ]
  },
  {
   "cell_type": "markdown",
   "id": "ddbc7db1",
   "metadata": {},
   "source": [
    "#### What are the top product categories in terms of revenue and quantity sold?\n"
   ]
  },
  {
   "cell_type": "code",
   "execution_count": 11,
   "id": "34f3d1b6",
   "metadata": {},
   "outputs": [
    {
     "data": {
      "text/html": [
       "<div>\n",
       "<style scoped>\n",
       "    .dataframe tbody tr th:only-of-type {\n",
       "        vertical-align: middle;\n",
       "    }\n",
       "\n",
       "    .dataframe tbody tr th {\n",
       "        vertical-align: top;\n",
       "    }\n",
       "\n",
       "    .dataframe thead th {\n",
       "        text-align: right;\n",
       "    }\n",
       "</style>\n",
       "<table border=\"1\" class=\"dataframe\">\n",
       "  <thead>\n",
       "    <tr style=\"text-align: right;\">\n",
       "      <th></th>\n",
       "      <th>Sales</th>\n",
       "      <th>Quantity</th>\n",
       "    </tr>\n",
       "    <tr>\n",
       "      <th>Category</th>\n",
       "      <th></th>\n",
       "      <th></th>\n",
       "    </tr>\n",
       "  </thead>\n",
       "  <tbody>\n",
       "    <tr>\n",
       "      <th>Office Supplies</th>\n",
       "      <td>719047.0320</td>\n",
       "      <td>22906</td>\n",
       "    </tr>\n",
       "    <tr>\n",
       "      <th>Furniture</th>\n",
       "      <td>741999.7953</td>\n",
       "      <td>8028</td>\n",
       "    </tr>\n",
       "    <tr>\n",
       "      <th>Technology</th>\n",
       "      <td>836154.0330</td>\n",
       "      <td>6939</td>\n",
       "    </tr>\n",
       "  </tbody>\n",
       "</table>\n",
       "</div>"
      ],
      "text/plain": [
       "                       Sales  Quantity\n",
       "Category                              \n",
       "Office Supplies  719047.0320     22906\n",
       "Furniture        741999.7953      8028\n",
       "Technology       836154.0330      6939"
      ]
     },
     "execution_count": 11,
     "metadata": {},
     "output_type": "execute_result"
    }
   ],
   "source": [
    "#What are the top product categories in terms of revenue and quantity sold?\n",
    "category_sales = df.groupby('Category').agg({'Sales' : 'sum','Quantity' :'sum'})\n",
    "\n",
    "#category_sales.sort_values(by='Sales', ascending=False).head()\n",
    "category_sales.sort_values(by='Quantity', ascending=False).head()"
   ]
  },
  {
   "cell_type": "markdown",
   "id": "6eddb733",
   "metadata": {},
   "source": [
    "#### what is the average order value and how does it vary by product category?"
   ]
  },
  {
   "cell_type": "code",
   "execution_count": 12,
   "id": "f7c83b5c",
   "metadata": {},
   "outputs": [
    {
     "name": "stdout",
     "output_type": "stream",
     "text": [
      "Average Order Value: $458.61\n",
      "\n",
      "Average Order Value by Product Category: \n",
      "Category\n",
      "Furniture          349.834887\n",
      "Office Supplies    119.324101\n",
      "Technology         452.709276\n",
      "Name: Sales, dtype: float64\n"
     ]
    }
   ],
   "source": [
    "# what is the aveage order value and how does it vary by product category?\n",
    "order_revenue = df.groupby('Order ID')['Sales'].sum()\n",
    "avg_order_value = order_revenue.mean()\n",
    "\n",
    "# calcuated the avg order value by product category\n",
    "category_avg_order_value = df.groupby('Category')['Sales'].mean()\n",
    "\n",
    "print(\"Average Order Value: ${:.2f}\".format(avg_order_value))\n",
    "print(\"\\nAverage Order Value by Product Category: \")\n",
    "print(category_avg_order_value)"
   ]
  },
  {
   "cell_type": "markdown",
   "id": "473e477e",
   "metadata": {},
   "source": [
    "#### Who are the top customers in terms of total spending and number of orders?"
   ]
  },
  {
   "cell_type": "code",
   "execution_count": 13,
   "id": "7c1cae92",
   "metadata": {
    "scrolled": true
   },
   "outputs": [
    {
     "name": "stdout",
     "output_type": "stream",
     "text": [
      "Top 3 Customes by total spending:\n",
      "Customer Name\n",
      "Sean Miller     25043.050\n",
      "Tamara Chand    19052.218\n",
      "Raymond Buch    15117.339\n",
      "Name: Sales, dtype: float64\n",
      "\n",
      "Top 3 Custoers by NUmber Orders:\n",
      "Customer Name\n",
      "Emily Phan       17\n",
      "Sally Hughsby    13\n",
      "Erin Ashbrook    13\n",
      "Name: Order ID, dtype: int64\n"
     ]
    }
   ],
   "source": [
    "#who are the top customers in terms of total spending and number of orders?\n",
    "\n",
    "customer_spending = df.groupby('Customer Name')['Sales'].sum()\n",
    "top_customers_by_spending =customer_spending.sort_values(ascending= False).head(3)\n",
    "\n",
    "\n",
    "customer_orders = df.groupby('Customer Name')['Order ID'].nunique()\n",
    "top_customers_by_orders = customer_orders.sort_values(ascending=False).head(3)\n",
    "\n",
    "\n",
    "print('Top 3 Customes by total spending:')\n",
    "print(top_customers_by_spending)\n",
    "print('\\nTop 3 Custoers by NUmber Orders:')\n",
    "print(top_customers_by_orders)"
   ]
  },
  {
   "cell_type": "markdown",
   "id": "58aa243f",
   "metadata": {},
   "source": [
    "### How does sales performance vary across different regions or state?"
   ]
  },
  {
   "cell_type": "code",
   "execution_count": 20,
   "id": "dc7f067c",
   "metadata": {},
   "outputs": [
    {
     "name": "stdout",
     "output_type": "stream",
     "text": [
      "Total Sales by Region:\n",
      "Region\n",
      "West       725457.8245\n",
      "East       678781.2400\n",
      "Central    501239.8908\n",
      "South      391721.9050\n",
      "Name: Sales, dtype: float64\n",
      "\n",
      "Total Sales by State:\n",
      "State\n",
      "California      457687.6315\n",
      "New York        310876.2710\n",
      "Texas           170188.0458\n",
      "Washington      138641.2700\n",
      "Pennsylvania    116511.9140\n",
      "Florida          89473.7080\n",
      "Illinois         80166.1010\n",
      "Ohio             78258.1360\n",
      "Michigan         76269.6140\n",
      "Virginia         70636.7200\n",
      "Name: Sales, dtype: float64\n"
     ]
    }
   ],
   "source": [
    "#How does sales performance vary across different regions or state?\n",
    "region_sales = df.groupby(\"Region\")[\"Sales\"].sum()\n",
    "state_sales = df.groupby(\"State\")[\"Sales\"].sum()\n",
    "\n",
    "top_region_sales = region_sales.sort_values(ascending = False)\n",
    "top_state_sales = state_sales.sort_values(ascending = False).head(10)\n",
    "\n",
    "print (\"Total Sales by Region:\")\n",
    "print (top_region_sales)\n",
    "print (\"\\nTotal Sales by State:\")\n",
    "print (top_state_sales)"
   ]
  },
  {
   "cell_type": "markdown",
   "id": "ab566144",
   "metadata": {},
   "source": [
    "### How do sales trends vary across different timeperiods(e.g.,months, quarters, years)?"
   ]
  },
  {
   "cell_type": "code",
   "execution_count": 22,
   "id": "6fa32c11",
   "metadata": {},
   "outputs": [
    {
     "data": {
      "image/png": "[encoded data removed]",
      "text/plain": [
       "<Figure size 640x480 with 1 Axes>"
      ]
     },
     "metadata": {},
     "output_type": "display_data"
    }
   ],
   "source": [
    "#How do sales trends vary across different timeperiods(e.g.,months, quarters, years)?\n",
    "monthly_sales = df.groupby(pd.Grouper(key = 'Order Date' , freq = 'M'))['Sales'].sum()\n",
    "quarterly_sales = df.groupby(pd.Grouper(key = 'Order Date' , freq = 'Q'))['Sales'].sum()\n",
    "yearly_sales = df.groupby(pd.Grouper(key = 'Order Date' , freq = 'Y'))['Sales'].sum()\n",
    "\n",
    "\n",
    "#Plot the sales trends over time\n",
    "plt.plot(monthly_sales, label='monthly_sales')\n",
    "plt.plot(quarterly_sales , label ='quarterly_sales')\n",
    "plt.plot(yearly_sales , label = 'yearly_sales')\n",
    "plt.xticks(rotation = 50)\n",
    "plt.xlabel('Time')\n",
    "plt.ylabel('Sales')\n",
    "plt.legend()\n",
    "plt.show()"
   ]
  },
  {
   "cell_type": "markdown",
   "id": "eb01a418",
   "metadata": {},
   "source": [
    "### Can we use the data to forecast future sales and identify potential growth opportunities for the business?"
   ]
  },
  {
   "cell_type": "code",
   "execution_count": 26,
   "id": "280ea587",
   "metadata": {
    "scrolled": true
   },
   "outputs": [
    {
     "name": "stdout",
     "output_type": "stream",
     "text": [
      "Requirement already satisfied: statsmodels in c:\\users\\brown\\anaconda3\\lib\\site-packages (0.13.2)\n",
      "Collecting statsmodels\n",
      "  Downloading statsmodels-0.14.0-cp39-cp39-win_amd64.whl (9.4 MB)\n",
      "     ---------------------------------------- 9.4/9.4 MB 42.4 kB/s eta 0:00:00\n",
      "Requirement already satisfied: numpy>=1.18 in c:\\users\\brown\\anaconda3\\lib\\site-packages (from statsmodels) (1.23.5)\n",
      "Requirement already satisfied: scipy!=1.9.2,>=1.4 in c:\\users\\brown\\anaconda3\\lib\\site-packages (from statsmodels) (1.9.1)\n",
      "Requirement already satisfied: pandas>=1.0 in c:\\users\\brown\\anaconda3\\lib\\site-packages (from statsmodels) (1.4.4)\n",
      "Requirement already satisfied: packaging>=21.3 in c:\\users\\brown\\anaconda3\\lib\\site-packages (from statsmodels) (21.3)\n",
      "Requirement already satisfied: patsy>=0.5.2 in c:\\users\\brown\\anaconda3\\lib\\site-packages (from statsmodels) (0.5.2)\n",
      "Requirement already satisfied: pyparsing!=3.0.5,>=2.0.2 in c:\\users\\brown\\anaconda3\\lib\\site-packages (from packaging>=21.3->statsmodels) (3.0.9)\n",
      "Requirement already satisfied: pytz>=2020.1 in c:\\users\\brown\\anaconda3\\lib\\site-packages (from pandas>=1.0->statsmodels) (2022.1)\n",
      "Requirement already satisfied: python-dateutil>=2.8.1 in c:\\users\\brown\\anaconda3\\lib\\site-packages (from pandas>=1.0->statsmodels) (2.8.2)\n",
      "Requirement already satisfied: six in c:\\users\\brown\\anaconda3\\lib\\site-packages (from patsy>=0.5.2->statsmodels) (1.16.0)\n",
      "Installing collected packages: statsmodels\n",
      "  Attempting uninstall: statsmodels\n",
      "    Found existing installation: statsmodels 0.13.2\n",
      "    Uninstalling statsmodels-0.13.2:\n",
      "      Successfully uninstalled statsmodels-0.13.2\n",
      "Successfully installed statsmodels-0.14.0\n"
     ]
    },
    {
     "name": "stderr",
     "output_type": "stream",
     "text": [
      "\n",
      "[notice] A new release of pip is available: 23.0.1 -> 23.1.2\n",
      "[notice] To update, run: python.exe -m pip install --upgrade pip\n"
     ]
    }
   ],
   "source": [
    "!pip install --upgrade statsmodels\n"
   ]
  },
  {
   "cell_type": "code",
   "execution_count": 32,
   "id": "f3c9647e",
   "metadata": {
    "scrolled": true
   },
   "outputs": [],
   "source": [
    "from statsmodels.tsa.arima.model import ARIMA"
   ]
  },
  {
   "cell_type": "code",
   "execution_count": null,
   "id": "e99f028b",
   "metadata": {},
   "outputs": [],
   "source": []
  },
  {
   "cell_type": "code",
   "execution_count": null,
   "id": "2d31304b",
   "metadata": {},
   "outputs": [],
   "source": []
  },
  {
   "cell_type": "code",
   "execution_count": null,
   "id": "5d8141dd",
   "metadata": {},
   "outputs": [],
   "source": []
  },
  {
   "cell_type": "code",
   "execution_count": null,
   "id": "df0f8ef6",
   "metadata": {},
   "outputs": [],
   "source": []
  }
 ],
 "metadata": {
  "kernelspec": {
   "display_name": "Python 3 (ipykernel)",
   "language": "python",
   "name": "python3"
  },
  "language_info": {
   "codemirror_mode": {
    "name": "ipython",
    "version": 3
   },
   "file_extension": ".py",
   "mimetype": "text/x-python",
   "name": "python",
   "nbconvert_exporter": "python",
   "pygments_lexer": "ipython3",
   "version": "3.9.13"
  }
 },
 "nbformat": 4,
 "nbformat_minor": 5
}
